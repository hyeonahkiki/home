{
 "cells": [
  {
   "cell_type": "code",
   "execution_count": 60,
   "metadata": {},
   "outputs": [
    {
     "name": "stdout",
     "output_type": "stream",
     "text": [
      "1111\n",
      "2진수입니다.\n"
     ]
    }
   ],
   "source": [
    "#problem05-01 2진수\n",
    "num = input()\n",
    "number=num.isnumeric()\n",
    "binary=['0','1']\n",
    "if number==True:\n",
    "    number==num\n",
    "    num2 =list(map(str,num))\n",
    "    check =True\n",
    "    for n in num2:\n",
    "        if n in binary:\n",
    "            check=True\n",
    "        else:\n",
    "            check=False\n",
    "            break\n",
    "else:\n",
    "    print('\"숫자가 아닙니다.\"')\n",
    "if check:\n",
    "    print('2진수입니다.')\n",
    "else:\n",
    "    print('2진수가 아닙니다.')"
   ]
  },
  {
   "cell_type": "code",
   "execution_count": 62,
   "metadata": {},
   "outputs": [
    {
     "name": "stdout",
     "output_type": "stream",
     "text": [
      "1111\n",
      "2진수입니다.\n"
     ]
    }
   ],
   "source": [
    "num = input()\n",
    "number=num.isnumeric()\n",
    "binary=['0','1']\n",
    "if number==True:\n",
    "    number=num\n",
    "    check =True\n",
    "    for n in num:\n",
    "        if n in binary:\n",
    "            check=True\n",
    "        else:\n",
    "            check=False\n",
    "            break\n",
    "else:\n",
    "    print('\"숫자가 아닙니다.\"')\n",
    "if check:\n",
    "    print('2진수입니다.')\n",
    "else:\n",
    "    print('2진수가 아닙니다.')"
   ]
  },
  {
   "cell_type": "code",
   "execution_count": 64,
   "metadata": {},
   "outputs": [
    {
     "name": "stdout",
     "output_type": "stream",
     "text": [
      "123\n",
      "2진수가 아닙니다.\n"
     ]
    }
   ],
   "source": [
    "number = input()\n",
    "if number.isdigit():\n",
    "    for num in range(0,len(number)):\n",
    "        if num == len(number)-1:\n",
    "            if int(number[len(number)-1]) == 0 or int(number[len(number)-1]) == 1:\n",
    "                print('2진수가 맞습니다.')\n",
    "            else:\n",
    "                print('2진수가 아닙니다.')\n",
    "        elif int(number[num]) == 1 or int(number[num]) == 0:\n",
    "            continue\n",
    "        else:\n",
    "            print('2진수가 아닙니다.')\n",
    "            break\n",
    "    \n",
    "else:\n",
    "    print('숫자를 입력해주세요.')"
   ]
  },
  {
   "cell_type": "code",
   "execution_count": null,
   "metadata": {},
   "outputs": [],
   "source": [
    "number = input()\n",
    "if number.isdigit():\n",
    "    for num in range(0,len(number)):\n",
    "        \n",
    "        if int(number[num]) == 1 or int(number[num]) == 0:\n",
    "            print('2진수입니다.'\n",
    "        else:\n",
    "            print('2진수가 아닙니다.')\n",
    "            break\n",
    "    \n",
    "else:\n",
    "    print('숫자를 입력해주세요.')"
   ]
  }
 ],
 "metadata": {
  "kernelspec": {
   "display_name": "Python 3",
   "language": "python",
   "name": "python3"
  },
  "language_info": {
   "codemirror_mode": {
    "name": "ipython",
    "version": 3
   },
   "file_extension": ".py",
   "mimetype": "text/x-python",
   "name": "python",
   "nbconvert_exporter": "python",
   "pygments_lexer": "ipython3",
   "version": "3.7.3"
  }
 },
 "nbformat": 4,
 "nbformat_minor": 2
}
