{
 "cells": [
  {
   "cell_type": "code",
   "execution_count": null,
   "metadata": {},
   "outputs": [],
   "source": [
    "t = int(input())  \n",
    "for tc in range(1, t+1):\n",
    "    n, m = map(int, input().split()) \n",
    "    test = list(map(int, input().split()))        \n",
    "\n",
    "    test_sum=[]\n",
    "    for j in range(0, n-m+1):\n",
    "        t_sum = 0\n",
    "        for k in range(j, j+m):\n",
    "            t_sum += test[k]       \n",
    "        test_sum.append(t_sum)\n",
    "\n",
    "    for k in range(len(test_sum)-1, 0, -1):\n",
    "        for j in range(0, k):\n",
    "            if test_sum[j] > test_sum[j+1]:\n",
    "                test_sum[j],test_sum[j+1] = test_sum[j+1],test_sum[j]\n",
    "    result = test_sum[-1] - test_sum[0]\n",
    "    print('#{} {}' .format(tc, result))"
   ]
  },
  {
   "cell_type": "code",
   "execution_count": null,
   "metadata": {},
   "outputs": [],
   "source": [
    "for tc in range(1, int(input())+1):\n",
    "    max_s = 0\n",
    "    min_s = 1000000\n",
    "    num = list(map(int, input().split()))\n",
    "    nums = list(map(int, input().split()))\n",
    "    for i in range(0, num[0]-num[1]+1):\n",
    "        #num[0]-num[1]+1 ==> 10개의 숫자를 3개씩 묶었을 때 8개의 묶음\n",
    "        s = 0\n",
    "        for j in range(0, num[1]):\n",
    "            s= s + nums[i+j]\n",
    "        if max_s < s:\n",
    "            max_s = s\n",
    "        if min_s > s:\n",
    "            min_s = s\n",
    "    print(f'#{tc} {max_s - min_s}')"
   ]
  },
  {
   "cell_type": "code",
   "execution_count": 4,
   "metadata": {},
   "outputs": [
    {
     "name": "stdout",
     "output_type": "stream",
     "text": [
      "ㅇ\n"
     ]
    },
    {
     "ename": "ValueError",
     "evalue": "invalid literal for int() with base 10: 'ㅇ'",
     "output_type": "error",
     "traceback": [
      "\u001b[1;31m---------------------------------------------------------------------------\u001b[0m",
      "\u001b[1;31mValueError\u001b[0m                                Traceback (most recent call last)",
      "\u001b[1;32m<ipython-input-4-77b5272b88e3>\u001b[0m in \u001b[0;36m<module>\u001b[1;34m\u001b[0m\n\u001b[0;32m      3\u001b[0m \u001b[0mday3\u001b[0m \u001b[1;33m=\u001b[0m \u001b[0mlist\u001b[0m\u001b[1;33m(\u001b[0m\u001b[0mmap\u001b[0m\u001b[1;33m(\u001b[0m\u001b[0mstr\u001b[0m\u001b[1;33m,\u001b[0m \u001b[0mrange\u001b[0m\u001b[1;33m(\u001b[0m\u001b[1;36m1\u001b[0m\u001b[1;33m,\u001b[0m\u001b[1;36m29\u001b[0m\u001b[1;33m)\u001b[0m\u001b[1;33m)\u001b[0m\u001b[1;33m)\u001b[0m\u001b[1;33m\u001b[0m\u001b[1;33m\u001b[0m\u001b[0m\n\u001b[0;32m      4\u001b[0m \u001b[1;33m\u001b[0m\u001b[0m\n\u001b[1;32m----> 5\u001b[1;33m \u001b[1;32mfor\u001b[0m \u001b[0mtc\u001b[0m \u001b[1;32min\u001b[0m \u001b[0mrange\u001b[0m\u001b[1;33m(\u001b[0m\u001b[1;36m1\u001b[0m\u001b[1;33m,\u001b[0m \u001b[0mint\u001b[0m\u001b[1;33m(\u001b[0m\u001b[0minput\u001b[0m\u001b[1;33m(\u001b[0m\u001b[1;33m)\u001b[0m\u001b[1;33m)\u001b[0m\u001b[1;33m+\u001b[0m\u001b[1;36m1\u001b[0m\u001b[1;33m)\u001b[0m\u001b[1;33m:\u001b[0m\u001b[1;33m\u001b[0m\u001b[1;33m\u001b[0m\u001b[0m\n\u001b[0m\u001b[0;32m      6\u001b[0m     \u001b[0mdata\u001b[0m \u001b[1;33m=\u001b[0m \u001b[0minput\u001b[0m\u001b[1;33m(\u001b[0m\u001b[1;33m)\u001b[0m\u001b[1;33m\u001b[0m\u001b[1;33m\u001b[0m\u001b[0m\n\u001b[0;32m      7\u001b[0m     months = {\n",
      "\u001b[1;31mValueError\u001b[0m: invalid literal for int() with base 10: 'ㅇ'"
     ]
    }
   ],
   "source": [
    "day1 = list(map(str, range(1,32)))\n",
    "day2 = list(map(str, range(1,31)))\n",
    "day3 = list(map(str, range(1,29)))\n",
    "\n",
    "for tc in range(1, int(input())+1):\n",
    "    data = input()\n",
    "    months = {\n",
    "        '01': day1,\n",
    "        '02': day3,\n",
    "        '03': day1,\n",
    "        '04': day2,\n",
    "        '05': day1,\n",
    "        '06': day2,\n",
    "        '07': day1,\n",
    "        '08': day1,\n",
    "        '09': day2,\n",
    "        '10': day1, \n",
    "        '11': day2,\n",
    "        '12': day1    \n",
    "    }\n",
    "    if data[4:6] in months:\n",
    "        if str(int(data[6:])) in months[data[4:6]]:\n",
    "            print(f'#{tc} {data[:4]}/{data[4:6]}/{data[6:]}')\n",
    "        else:\n",
    "            print(f'#{tc} -1')\n",
    "    else:\n",
    "        print(f'#{tc} -1')"
   ]
  },
  {
   "cell_type": "code",
   "execution_count": 8,
   "metadata": {},
   "outputs": [
    {
     "name": "stdout",
     "output_type": "stream",
     "text": [
      "3\n",
      "3 10 5\n",
      "1 3 5 7 9\n"
     ]
    },
    {
     "ename": "IndexError",
     "evalue": "list index out of range",
     "output_type": "error",
     "traceback": [
      "\u001b[1;31m---------------------------------------------------------------------------\u001b[0m",
      "\u001b[1;31mIndexError\u001b[0m                                Traceback (most recent call last)",
      "\u001b[1;32m<ipython-input-8-4e3a418f2997>\u001b[0m in \u001b[0;36m<module>\u001b[1;34m\u001b[0m\n\u001b[0;32m      6\u001b[0m     \u001b[0mlast\u001b[0m \u001b[1;33m=\u001b[0m \u001b[1;36m0\u001b[0m\u001b[1;33m\u001b[0m\u001b[1;33m\u001b[0m\u001b[0m\n\u001b[0;32m      7\u001b[0m     \u001b[1;32mfor\u001b[0m \u001b[0mi\u001b[0m \u001b[1;32min\u001b[0m \u001b[0mrange\u001b[0m\u001b[1;33m(\u001b[0m\u001b[0mn\u001b[0m\u001b[1;33m+\u001b[0m\u001b[1;36m1\u001b[0m\u001b[1;33m)\u001b[0m\u001b[1;33m:\u001b[0m\u001b[1;33m\u001b[0m\u001b[1;33m\u001b[0m\u001b[0m\n\u001b[1;32m----> 8\u001b[1;33m         \u001b[1;32mif\u001b[0m \u001b[0mbattery_stop\u001b[0m\u001b[1;33m[\u001b[0m\u001b[0mlast\u001b[0m\u001b[1;33m]\u001b[0m\u001b[1;33m-\u001b[0m\u001b[0mbattery_stop\u001b[0m\u001b[1;33m[\u001b[0m\u001b[0mi\u001b[0m\u001b[1;33m]\u001b[0m \u001b[1;33m<\u001b[0m \u001b[0mk\u001b[0m\u001b[1;33m:\u001b[0m\u001b[1;33m\u001b[0m\u001b[1;33m\u001b[0m\u001b[0m\n\u001b[0m\u001b[0;32m      9\u001b[0m             \u001b[0mlast\u001b[0m \u001b[1;33m+=\u001b[0m \u001b[1;36m1\u001b[0m\u001b[1;33m\u001b[0m\u001b[1;33m\u001b[0m\u001b[0m\n\u001b[0;32m     10\u001b[0m             \u001b[0mcnt\u001b[0m \u001b[1;33m+=\u001b[0m \u001b[1;36m1\u001b[0m\u001b[1;33m\u001b[0m\u001b[1;33m\u001b[0m\u001b[0m\n",
      "\u001b[1;31mIndexError\u001b[0m: list index out of range"
     ]
    }
   ],
   "source": [
    "# 1일차 전기차\n",
    "for tc in range(1, int(input())+1):\n",
    "    k, n, m = map(int, input().split())\n",
    "    battery_stop = list(map(int, input().split()))\n",
    "    cnt = 0\n",
    "    last = 0\n",
    "    for i in range(n+1):\n",
    "        if battery_stop[last]-battery_stop[i] < k:\n",
    "            last += 1\n",
    "            cnt += 1\n",
    "        else:\n",
    "            print(f'#{tc} 0')\n",
    "print(f'#{tc} {cnt}')"
   ]
  },
  {
   "cell_type": "code",
   "execution_count": 14,
   "metadata": {},
   "outputs": [
    {
     "name": "stdout",
     "output_type": "stream",
     "text": [
      "tomorrow better A\n"
     ]
    }
   ],
   "source": [
    "#사전학습2 -문자열 2\n",
    "words = 'A better tomorrow'\n",
    "ans = sorted(words.split(), reverse=True)\n",
    "print(' '.join(ans))"
   ]
  },
  {
   "cell_type": "code",
   "execution_count": 19,
   "metadata": {},
   "outputs": [
    {
     "name": "stdout",
     "output_type": "stream",
     "text": [
      "http://www.example.com/test?p=1&q=2\n",
      "protocol: http\n",
      "host: www.example.com\n",
      "others: test?p=1&q=2\n"
     ]
    }
   ],
   "source": [
    "#사전학습2 - 문자열3\n",
    "url = input()\n",
    "protocol = url[0:4]\n",
    "host = url[7:22]\n",
    "others = url[23:]\n",
    "\n",
    "print(f'protocol: {ans[0][0:4]}')\n",
    "print(f'host: {ans[2]}')\n",
    "print(f'others: {ans[3]}')"
   ]
  },
  {
   "cell_type": "code",
   "execution_count": 29,
   "metadata": {},
   "outputs": [
    {
     "name": "stdout",
     "output_type": "stream",
     "text": [
      "http://www.example.com/test?p=1&q=2\n",
      "protocol: http\n",
      "host: www.example.com\n",
      "others: test?p=1&q=2\n"
     ]
    }
   ],
   "source": [
    "url = input()\n",
    "ans = url.split('/')\n",
    "print(f'protocol: {ans[0][0:4]}')\n",
    "print(f'host: {ans[2]}')\n",
    "print(f'others: {ans[3]}')"
   ]
  },
  {
   "cell_type": "code",
   "execution_count": 32,
   "metadata": {},
   "outputs": [
    {
     "name": "stdout",
     "output_type": "stream",
     "text": [
      "Hello World\n",
      ">> HELLO WORLD\n",
      "hello world\n",
      ">> HELLO WORLD\n",
      "Python\n",
      ">> PYTHON\n"
     ]
    }
   ],
   "source": [
    "#사전학습2 - 문자열4\n",
    "for n in range(1,4):\n",
    "    words = input()\n",
    "    print(f'>> {words.upper()}')"
   ]
  },
  {
   "cell_type": "code",
   "execution_count": 38,
   "metadata": {},
   "outputs": [
    {
     "name": "stdout",
     "output_type": "stream",
     "text": [
      "산 하늘 강 바다 하늘 강 들\n",
      "강,들,바다,산,하늘\n"
     ]
    }
   ],
   "source": [
    "#사전학습2 - 문자열5\n",
    "words = set(input().split())\n",
    "ans = sorted(words)\n",
    "print(','.join(ans))"
   ]
  },
  {
   "cell_type": "code",
   "execution_count": 40,
   "metadata": {},
   "outputs": [
    {
     "name": "stdout",
     "output_type": "stream",
     "text": [
      "H1e2l3l4o5w6o7r8l9d\n",
      "Helloworld\n"
     ]
    }
   ],
   "source": [
    "#사전학습2 - 문자열7\n",
    "words = input()\n",
    "ans = ''\n",
    "for n in range(len(words)+1):\n",
    "    if not n % 2:\n",
    "        ans+=words[n]\n",
    "print(ans)"
   ]
  }
 ],
 "metadata": {
  "kernelspec": {
   "display_name": "Python 3",
   "language": "python",
   "name": "python3"
  }
 },
 "nbformat": 4,
 "nbformat_minor": 2
}
