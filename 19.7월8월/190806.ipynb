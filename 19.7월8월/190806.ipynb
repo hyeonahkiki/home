{
 "cells": [
  {
   "cell_type": "code",
   "execution_count": 2,
   "metadata": {},
   "outputs": [
    {
     "name": "stdout",
     "output_type": "stream",
     "text": [
      "[5, 77, 45]\n"
     ]
    }
   ],
   "source": [
    "#사전학습 리스트,튜플22\n",
    "numbers = [5, 6, 77, 45, 22, 12, 24]\n",
    "res= [number for number in numbers if number % 2]\n",
    "print(res)"
   ]
  },
  {
   "cell_type": "code",
   "execution_count": 19,
   "metadata": {},
   "outputs": [
    {
     "name": "stdout",
     "output_type": "stream",
     "text": [
      "[24, 70, 120]\n"
     ]
    }
   ],
   "source": [
    "#사전학습 리스트, 튜플 23\n",
    "nums = [12, 24, 35, 70, 88, 120, 155]\n",
    "ans = []\n",
    "for n in range(1,7,2):\n",
    "    ans.append(nums[n])\n",
    "print(ans)"
   ]
  },
  {
   "cell_type": "code",
   "execution_count": 21,
   "metadata": {},
   "outputs": [
    {
     "name": "stdout",
     "output_type": "stream",
     "text": [
      "[24, 70, 120]\n"
     ]
    }
   ],
   "source": [
    "ans = [nums[n] for n in range(1,7,2)]"
   ]
  },
  {
   "cell_type": "code",
   "execution_count": 37,
   "metadata": {},
   "outputs": [
    {
     "name": "stdout",
     "output_type": "stream",
     "text": [
      "[24, 35, 70, 155]\n"
     ]
    }
   ],
   "source": [
    "#튜플 25\n",
    "ans = [nums[n] for n in range(7) if n!=0 and n!=4 and n!=5]\n",
    "print(ans)"
   ]
  },
  {
   "cell_type": "code",
   "execution_count": 40,
   "metadata": {},
   "outputs": [
    {
     "name": "stdout",
     "output_type": "stream",
     "text": [
      "[35]\n"
     ]
    }
   ],
   "source": [
    "#튜플 26\n",
    "num1 = [1,3,6,78,35,55]\n",
    "num2 = [12,24,35,24,88,120,155]\n",
    "ans = []\n",
    "for num in num1:\n",
    "    for nums in num2:\n",
    "        if num == nums:\n",
    "            ans.append(num)\n",
    "print(ans)"
   ]
  },
  {
   "cell_type": "code",
   "execution_count": 54,
   "metadata": {},
   "outputs": [
    {
     "data": {
      "text/plain": [
       "[12, 24, 35, 88, 120, 155]"
      ]
     },
     "execution_count": 54,
     "metadata": {},
     "output_type": "execute_result"
    }
   ],
   "source": [
    "#튜플 27\n",
    "# numbers = [12,24,35,24,88,120,155,88,120,155]\n",
    "ans = []\n",
    "def solve(numbers):\n",
    "    for number in numbers:\n",
    "        if number not in ans:\n",
    "            ans.append(number)\n",
    "    return ans\n",
    "solve([12,24,35,24,88,120,155,88,120,155])    "
   ]
  }
 ],
 "metadata": {
  "kernelspec": {
   "display_name": "Python 3",
   "language": "python",
   "name": "python3"
  },
  "language_info": {
   "codemirror_mode": {
    "name": "ipython",
    "version": 3
   },
   "file_extension": ".py",
   "mimetype": "text/x-python",
   "name": "python",
   "nbconvert_exporter": "python",
   "pygments_lexer": "ipython3",
   "version": "3.7.3"
  }
 },
 "nbformat": 4,
 "nbformat_minor": 2
}
