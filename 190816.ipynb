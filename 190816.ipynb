{
 "cells": [
  {
   "cell_type": "code",
   "execution_count": null,
   "metadata": {},
   "outputs": [],
   "source": [
    "#d2- 1966 숫자를 정렬하자\n",
    "\n",
    "for tc in range(1, int(input())+1):\n",
    "    cnt = input()\n",
    "    nums = list(map(int, input().split()))\n",
    "    ans = sorted(nums)\n",
    "    ans2 = list(map(str, ans))\n",
    "    res = ' '.join(ans2)\n",
    "    print('#{} {}' .format(tc, res))"
   ]
  },
  {
   "cell_type": "code",
   "execution_count": 2,
   "metadata": {},
   "outputs": [
    {
     "name": "stdout",
     "output_type": "stream",
     "text": [
      "2\n",
      "32850\n",
      "#1\n",
      "0 3 0 2 1 3 1 0\n",
      "160\n",
      "#2\n",
      "0 0 0 0 0 1 1 1\n"
     ]
    }
   ],
   "source": [
    "#d2 - 쉬운 거스름돈\n",
    "\n",
    "for tc in range(1, int(input())+1):\n",
    "    money= int(input())\n",
    "    give = ''\n",
    "    div1 = money // 50000\n",
    "    give += str(div1)\n",
    "    money -= div1 * 50000\n",
    "    div2 = money // 10000\n",
    "    give += str(div2)\n",
    "    money -= div2 * 10000\n",
    "    div3 = money //5000\n",
    "    give += str(div3)\n",
    "    money -= div3 * 5000\n",
    "    div4 = money // 1000\n",
    "    give += str(div4)\n",
    "    money -= div4* 1000\n",
    "    div5 = money // 500\n",
    "    give += str(div5)\n",
    "    money -= div5 * 500\n",
    "    div6 = money // 100\n",
    "    give += str(div6)\n",
    "    money -= div6 * 100\n",
    "    div7 = money //50\n",
    "    give += str(div7)\n",
    "    money -= div7 * 50\n",
    "    div8 = money //10\n",
    "    give += str(div8)\n",
    "    print('#{}\\n{}'.format(tc, ' '.join(give)))"
   ]
  },
  {
   "cell_type": "code",
   "execution_count": null,
   "metadata": {},
   "outputs": [],
   "source": [
    " "
   ]
  }
 ],
 "metadata": {
  "kernelspec": {
   "display_name": "Python 3",
   "language": "python",
   "name": "python3"
  },
  "language_info": {
   "codemirror_mode": {
    "name": "ipython",
    "version": 3
   },
   "file_extension": ".py",
   "mimetype": "text/x-python",
   "name": "python",
   "nbconvert_exporter": "python",
   "pygments_lexer": "ipython3",
   "version": "3.7.3"
  }
 },
 "nbformat": 4,
 "nbformat_minor": 2
}
