{
 "cells": [
  {
   "cell_type": "code",
   "execution_count": 2,
   "metadata": {},
   "outputs": [],
   "source": [
    "class MyList:\n",
    "    data=[]\n",
    "    \n",
    "    def append(self, val):\n",
    "        self.data += [val]\n",
    "        \n",
    "    def pop(self):\n",
    "        p = self.data[-1]\n",
    "        self.data = self.data[:-1]\n",
    "        return p\n",
    "    \n",
    "    def reverse(self):\n",
    "        self.data = self.data[::-1]\n",
    "        \n",
    "    def count(self, val):\n",
    "        return self.data.count(val)\n",
    "    \n",
    "    def clear(self):\n",
    "        self.data=[]\n",
    "        \n",
    "    def __repr__(self):\n",
    "        return f'내 리스트에는 {data}이 담겨있다.'"
   ]
  },
  {
   "cell_type": "code",
   "execution_count": 5,
   "metadata": {},
   "outputs": [],
   "source": [
    "class Stack:\n",
    "    def __init__(self):\n",
    "        self.data=[]\n",
    "        \n",
    "    def empty(self):\n",
    "        if self.data:\n",
    "            return False\n",
    "        else:\n",
    "            return True\n",
    "        \n",
    "    def top(self):\n",
    "        if self.data:\n",
    "            return self.data[-1]\n",
    "    \n",
    "    def pop(self):\n",
    "        if not self.empty():\n",
    "            last = self.data[-1]\n",
    "            self.data = self.data[0:-1]\n",
    "            return last\n",
    "    def push(self):\n",
    "        self.data.append(item)\n",
    "    \n",
    "s=Stack()"
   ]
  },
  {
   "cell_type": "code",
   "execution_count": 6,
   "metadata": {},
   "outputs": [],
   "source": [
    "class Person:\n",
    "    brain = True\n",
    "    \n",
    "    def __init__(self, name, age, number, email):\n",
    "        self.name = name\n",
    "        self.age = age\n",
    "        self.number = number\n",
    "        self.email = email\n",
    "    \n",
    "    def greeting(self):\n",
    "        print(f'안녕, {self.name}')\n",
    "        \n",
    "    def walk(self):\n",
    "        print('뚜벅뚜벅')\n",
    "        \n",
    "class Student(Person):\n",
    "    def __init__(self, name, age, number, email, studet_id):\n",
    "        super().__init__(name, age, number, email)\n",
    "        self.student_id = student_id\n",
    "        "
   ]
  },
  {
   "cell_type": "code",
   "execution_count": 14,
   "metadata": {},
   "outputs": [
    {
     "name": "stdout",
     "output_type": "stream",
     "text": [
      "87.75\n"
     ]
    }
   ],
   "source": [
    "student = {'python':80, 'algorithm':99, 'django':89, 'flask': 83}\n",
    "sum_score= 0\n",
    "for score in student.values():\n",
    "    sum_score +=score\n",
    "    ans = sum_score / 4\n",
    "print(ans)"
   ]
  },
  {
   "cell_type": "code",
   "execution_count": 23,
   "metadata": {},
   "outputs": [
    {
     "data": {
      "text/plain": [
       "True"
      ]
     },
     "execution_count": 23,
     "metadata": {},
     "output_type": "execute_result"
    }
   ],
   "source": [
    "def palidrome(word):\n",
    "    if word[0::1] ==word[-1::-1]:\n",
    "        return True\n",
    "    else:\n",
    "        return False\n",
    "\n",
    "palidrome('토마토')"
   ]
  },
  {
   "cell_type": "code",
   "execution_count": 24,
   "metadata": {},
   "outputs": [
    {
     "name": "stdout",
     "output_type": "stream",
     "text": [
      "{'A': 2, 'B': 2, 'O': 2, 'AB': 3}\n"
     ]
    }
   ],
   "source": [
    "blood_types = ['A', 'B', 'A', 'O', 'AB', 'AB', 'O', 'B', 'AB']\n",
    "\n",
    "blood_dict = {}\n",
    "for i in blood_types:\n",
    "    if i in blood_dict:\n",
    "        blood_dict[i]+=1\n",
    "    else:\n",
    "        blood_dict[i] = 1\n",
    "print(blood_dict)"
   ]
  },
  {
   "cell_type": "code",
   "execution_count": 26,
   "metadata": {},
   "outputs": [],
   "source": [
    "def sums(a,b):\n",
    "    return a+b\n",
    "\n",
    "def sub(a,b):\n",
    "    return a - b\n",
    "\n",
    "def multi(a, b):\n",
    "    return  a * b\n",
    "\n",
    "def div(a, b):\n",
    "    try:\n",
    "        return a / b\n",
    "    except ZeroDivisionError:\n",
    "        print('0으로는 나눌 수 없습니다.')"
   ]
  },
  {
   "cell_type": "code",
   "execution_count": 33,
   "metadata": {},
   "outputs": [
    {
     "name": "stdout",
     "output_type": "stream",
     "text": [
      "28.259999999999998\n",
      "18.84\n"
     ]
    }
   ],
   "source": [
    "class Circle:\n",
    "    pi = 3.14\n",
    "    x = 0\n",
    "    y = 0\n",
    "    r = 0\n",
    "    \n",
    "    def __init__(self, r, x, y):\n",
    "        self.r = r\n",
    "        self.x = x\n",
    "        self. y = y\n",
    "        \n",
    "    def area(self):\n",
    "        return self.pi*self.r*self.r\n",
    "    \n",
    "    def circumference(self):\n",
    "        return 2* self.pi * self.r\n",
    "    \n",
    "    def center(self):\n",
    "        return (self.x, self.y)\n",
    "    \n",
    "c1 = Circle(3, 2, 4)\n",
    "print(c1.area())\n",
    "print(c1.circumference())"
   ]
  },
  {
   "cell_type": "code",
   "execution_count": 41,
   "metadata": {},
   "outputs": [
    {
     "name": "stdout",
     "output_type": "stream",
     "text": [
      "멍멍이! 달린다!\n",
      "멍멍이! 달린다!\n",
      "구구! 걷는다!\n",
      "구구! 먹는다!\n",
      "구구! 푸드덕!\n"
     ]
    }
   ],
   "source": [
    "class Animal:\n",
    "    def __init__(self, name):\n",
    "        self.name = name\n",
    "        \n",
    "    def walk(self):\n",
    "        print(f'{self.name}! 걷는다!')\n",
    "    \n",
    "    def eat(self):\n",
    "        print(f'{self.name}! 먹는다!')\n",
    "        \n",
    "class Dog(Animal):\n",
    "    def walk(self):\n",
    "        print(f'{self.name}! 달린다!')\n",
    "            \n",
    "    def run(self):\n",
    "        print(f'{self.name}! 달린다!')\n",
    "            \n",
    "class Bird(Animal):\n",
    "    def fly(self):\n",
    "        print(f'{self.name}! 푸드덕!')\n",
    "\n",
    "dog = Dog('멍멍이')\n",
    "bird = Bird('구구')\n",
    "\n",
    "dog.walk()\n",
    "dog.run()\n",
    "\n",
    "bird.walk()\n",
    "bird.eat()\n",
    "bird.fly()"
   ]
  },
  {
   "cell_type": "code",
   "execution_count": 52,
   "metadata": {},
   "outputs": [
    {
     "name": "stdout",
     "output_type": "stream",
     "text": [
      "{'A': 2, 'B': 2, 'O': 2, 'AB': 3}\n"
     ]
    }
   ],
   "source": [
    "blood_types = ['A', 'B', 'A', 'O', 'AB', 'AB', 'O', 'B', 'AB']\n",
    "\n",
    "ans= {}\n",
    "\n",
    "for blood in blood_types:\n",
    "    if blood in ans:\n",
    "        ans[blood] +=1\n",
    "    else:\n",
    "        ans[blood] = 1\n",
    "print(ans)"
   ]
  },
  {
   "cell_type": "code",
   "execution_count": 51,
   "metadata": {},
   "outputs": [
    {
     "name": "stdout",
     "output_type": "stream",
     "text": [
      "{'A': 2, 'B': 2, 'O': 2, 'AB': 3}\n"
     ]
    }
   ],
   "source": [
    "blood_dict = {}\n",
    "for i in blood_types:\n",
    "    if i in blood_dict:\n",
    "        blood_dict[i]+=1\n",
    "    else:\n",
    "        blood_dict[i] = 1\n",
    "print(blood_dict)"
   ]
  }
 ],
 "metadata": {
  "kernelspec": {
   "display_name": "Python 3",
   "language": "python",
   "name": "python3"
  },
  "language_info": {
   "codemirror_mode": {
    "name": "ipython",
    "version": 3
   },
   "file_extension": ".py",
   "mimetype": "text/x-python",
   "name": "python",
   "nbconvert_exporter": "python",
   "pygments_lexer": "ipython3",
   "version": "3.7.3"
  }
 },
 "nbformat": 4,
 "nbformat_minor": 2
}
