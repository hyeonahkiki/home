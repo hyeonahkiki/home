{
 "cells": [
  {
   "cell_type": "code",
   "execution_count": null,
   "metadata": {},
   "outputs": [],
   "source": [
    "# d2 - 패턴마디의 길이 \n",
    "for tc in range(1, int(input())+1):\n",
    "    words = input()\n",
    "    res =[]\n",
    "    for n in range(1,len(words)):\n",
    "        if words[0:2]==words[n:n+2]:\n",
    "            res.append(n)\n",
    "            break\n",
    "    print('#{} {}'.format(tc, res[0]))"
   ]
  },
  {
   "cell_type": "code",
   "execution_count": null,
   "metadata": {},
   "outputs": [],
   "source": [
    "#d2 - 간단한 369게임\n",
    "ans = []\n",
    "game = '369'\n",
    "for num in range(1,int(input())+1):\n",
    "    ans.append(str(num))\n",
    "    for m in range(len(ans)):\n",
    "         if ans[m] in game:\n",
    "            ans[m] = '-'\n",
    "            \n",
    "print(' '.join(ans))"
   ]
  },
  {
   "cell_type": "code",
   "execution_count": null,
   "metadata": {},
   "outputs": [],
   "source": [
    "ans = []\n",
    "game = '369'\n",
    "for num in range(1,int(input())+1):\n",
    "    ans.append(str(num))\n",
    "    for m in range(len(ans)):\n",
    "        for n in ans[m]:\n",
    "            if n in game:\n",
    "                ans[m] = ans[m].replace(n, '-')\n",
    "        if ans[m].count('-')==1:\n",
    "            ans[m] = '-'\n",
    "            \n",
    "print(' '.join(ans))"
   ]
  },
  {
   "cell_type": "code",
   "execution_count": null,
   "metadata": {},
   "outputs": [],
   "source": [
    "#d2 - 1984 중간 평균값구하기\n",
    "for tc in range(1, int(input())+1):\n",
    "    numbers = list(map(int,input().split()))\n",
    "    res = sorted(numbers)\n",
    "    ans = sum(res[1:-1])/(len(res)-2)\n",
    "    print('#{} {}'.format(tc,round(ans)))"
   ]
  },
  {
   "cell_type": "code",
   "execution_count": null,
   "metadata": {},
   "outputs": [],
   "source": [
    "#d2 - 1976 시각덧셈\n",
    "for tc in range(1, int(input())+1):\n",
    "    t1, m1, t2, m2 = map(int, input().split())\n",
    "    time = t1 + t2\n",
    "    minute = m1+ m2\n",
    "    if minute >= 60:\n",
    "        time += 1\n",
    "        minute -= 60\n",
    "    if time >=13:\n",
    "        time -=12\n",
    "    print('#{} {} {}'.format(tc, time, minute))"
   ]
  },
  {
   "cell_type": "code",
   "execution_count": null,
   "metadata": {},
   "outputs": [],
   "source": [
    "#d2 - 1989.초심자의 회문검사\n",
    "for tc in range(1, int(input())+1):\n",
    "    words = input()\n",
    "    if words[0::]== words[-1::-1]:\n",
    "        ans = 1\n",
    "    else:\n",
    "        ans = 0\n",
    "    print('#{} {}'.format(tc, ans))"
   ]
  }
 ],
 "metadata": {
  "kernelspec": {
   "display_name": "Python 3",
   "language": "python",
   "name": "python3"
  },
  "language_info": {
   "codemirror_mode": {
    "name": "ipython",
    "version": 3
   },
   "file_extension": ".py",
   "mimetype": "text/x-python",
   "name": "python",
   "nbconvert_exporter": "python",
   "pygments_lexer": "ipython3",
   "version": "3.7.3"
  }
 },
 "nbformat": 4,
 "nbformat_minor": 2
}
