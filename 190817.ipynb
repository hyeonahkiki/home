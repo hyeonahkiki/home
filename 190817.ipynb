{
 "cells": [
  {
   "cell_type": "code",
   "execution_count": null,
   "metadata": {},
   "outputs": [],
   "source": [
    "for tc in range(1, int(input())+1):\n",
    "    word1 = input()\n",
    "    word2 = input()\n",
    "    ans = '0'\n",
    "    for i in range(len(word2)-len(word1)+1): #긴거에 어디있는지\n",
    "        for j in range(len(word1)):\n",
    "            if word2[i+j] != word1[j]:\n",
    "                j+=1\n",
    "                break\n",
    "        if j==len(word1)-1:\n",
    "            ans = '1'\n",
    "            break\n",
    "    print('#{} {}'.format(tc, ans))"
   ]
  },
  {
   "cell_type": "code",
   "execution_count": null,
   "metadata": {},
   "outputs": [],
   "source": [
    "#d2-1970 쉬운 거스름돈\n",
    "for tc in range(1, int(input())+1):\n",
    "    money= int(input())\n",
    "    give = ''\n",
    "    cash = [50000, 10000, 5000, 1000, 500, 100, 50, 10]\n",
    "    \n",
    "    for m in range(len(cash)):\n",
    "        ans = money // cash[m]\n",
    "        give += str(ans)\n",
    "        give += str(' ')\n",
    "        money -= ans * cash[m]\n",
    "    print('#{} {}'.format(tc, give))"
   ]
  },
  {
   "cell_type": "code",
   "execution_count": null,
   "metadata": {
    "scrolled": true
   },
   "outputs": [],
   "source": [
    "# 주말문제 3\n",
    "tc = int(input())\n",
    "number = [[i+1] for i in range(1,tc+1) for j in range(1, tc+1)]\n",
    "print(number)"
   ]
  },
  {
   "cell_type": "code",
   "execution_count": null,
   "metadata": {},
   "outputs": [],
   "source": [
    "tc = int(input())\n",
    "number = [[0]*tc for i in range(tc)]\n",
    "k = 1\n",
    "cnt = 0\n",
    "for i in range(tc):\n",
    "    for j in range(tc):\n",
    "        number[i][j] = k\n",
    "        k += 1\n",
    "        if not number[i][j] %2:\n",
    "            cnt +=1\n",
    "print(cnt)"
   ]
  },
  {
   "cell_type": "code",
   "execution_count": null,
   "metadata": {},
   "outputs": [],
   "source": [
    "#주말 문제 -  1\n",
    "nums = list(map(int,input().split()))\n",
    "ans = 0\n",
    "for n in range(0,len(nums)-1):\n",
    "    if nums[n+1]-nums[n]==1:\n",
    "        ans += 1\n",
    "    else:\n",
    "        ans = 1\n",
    "print(ans)"
   ]
  },
  {
   "cell_type": "code",
   "execution_count": null,
   "metadata": {},
   "outputs": [],
   "source": [
    "# 주말 문제 -2\n",
    "roads= list(map(int, input().split()))\n",
    "ans =''\n",
    "cnt = 0\n",
    "for n in range(1,len(roads)-1):\n",
    "    if roads[n]-roads[n+1]<0:\n",
    "        ans +='+'\n",
    "    else:\n",
    "        ans += '-'\n",
    "for i in range(len(ans)-3)\n",
    "    \n",
    "print(ans)"
   ]
  },
  {
   "cell_type": "code",
   "execution_count": null,
   "metadata": {},
   "outputs": [],
   "source": [
    "print(roads[1]-roads[2])"
   ]
  },
  {
   "cell_type": "code",
   "execution_count": null,
   "metadata": {},
   "outputs": [],
   "source": [
    "for tc in range(1, int(input())+1):\n",
    "    original = input()\n",
    "    reset = [0*i for i in range(len(original))]\n",
    "    cnt = 0\n",
    "    while reset[n] != 1:\n",
    "        reset[n] +=1\n",
    "        reset[n:] ==1\n",
    "        cnt += 1\n",
    "        if ''.join(str(reset)) == original:\n",
    "            break\n",
    "    print('#{} {}'.format(tc, cnt))"
   ]
  },
  {
   "cell_type": "code",
   "execution_count": 11,
   "metadata": {
    "scrolled": true
   },
   "outputs": [
    {
     "name": "stdout",
     "output_type": "stream",
     "text": [
      "1\n",
      "100\n"
     ]
    },
    {
     "ename": "IndexError",
     "evalue": "string index out of range",
     "output_type": "error",
     "traceback": [
      "\u001b[1;31m---------------------------------------------------------------------------\u001b[0m",
      "\u001b[1;31mIndexError\u001b[0m                                Traceback (most recent call last)",
      "\u001b[1;32m<ipython-input-11-93682a442f75>\u001b[0m in \u001b[0;36m<module>\u001b[1;34m\u001b[0m\n\u001b[0;32m      5\u001b[0m     \u001b[1;32mif\u001b[0m \u001b[0mreset\u001b[0m\u001b[1;33m!=\u001b[0m \u001b[0moriginal\u001b[0m \u001b[1;33m:\u001b[0m\u001b[1;33m\u001b[0m\u001b[1;33m\u001b[0m\u001b[0m\n\u001b[0;32m      6\u001b[0m         \u001b[1;32mfor\u001b[0m \u001b[0mn\u001b[0m \u001b[1;32min\u001b[0m \u001b[0mrange\u001b[0m\u001b[1;33m(\u001b[0m\u001b[0mlen\u001b[0m\u001b[1;33m(\u001b[0m\u001b[0mreset\u001b[0m\u001b[1;33m)\u001b[0m\u001b[1;33m)\u001b[0m\u001b[1;33m:\u001b[0m\u001b[1;33m\u001b[0m\u001b[1;33m\u001b[0m\u001b[0m\n\u001b[1;32m----> 7\u001b[1;33m             \u001b[1;32mif\u001b[0m \u001b[0mreset\u001b[0m\u001b[1;33m[\u001b[0m\u001b[0mn\u001b[0m\u001b[1;33m]\u001b[0m \u001b[1;33m!=\u001b[0m \u001b[0moriginal\u001b[0m\u001b[1;33m[\u001b[0m\u001b[0mn\u001b[0m\u001b[1;33m]\u001b[0m\u001b[1;33m:\u001b[0m\u001b[1;33m\u001b[0m\u001b[1;33m\u001b[0m\u001b[0m\n\u001b[0m\u001b[0;32m      8\u001b[0m                 \u001b[0mreset\u001b[0m\u001b[1;33m=\u001b[0m\u001b[0mreset\u001b[0m\u001b[1;33m.\u001b[0m\u001b[0mreplace\u001b[0m\u001b[1;33m(\u001b[0m\u001b[0mreset\u001b[0m\u001b[1;33m[\u001b[0m\u001b[0mn\u001b[0m\u001b[1;33m:\u001b[0m\u001b[1;33m]\u001b[0m\u001b[1;33m,\u001b[0m \u001b[0moriginal\u001b[0m\u001b[1;33m[\u001b[0m\u001b[0mn\u001b[0m\u001b[1;33m]\u001b[0m\u001b[1;33m)\u001b[0m\u001b[1;33m\u001b[0m\u001b[1;33m\u001b[0m\u001b[0m\n\u001b[0;32m      9\u001b[0m     \u001b[0mcnt\u001b[0m \u001b[1;33m+=\u001b[0m \u001b[1;36m1\u001b[0m\u001b[1;33m\u001b[0m\u001b[1;33m\u001b[0m\u001b[0m\n",
      "\u001b[1;31mIndexError\u001b[0m: string index out of range"
     ]
    }
   ],
   "source": [
    "for tc in range(1, int(input())+1):\n",
    "    original = input()\n",
    "    reset = '0'* len(original)\n",
    "    cnt = 0\n",
    "    if reset!= original :\n",
    "        for n in range(len(reset)):\n",
    "            if reset[n] != original[n]:\n",
    "                reset=reset.replace(reset[n:], original[n])\n",
    "    cnt += 1\n",
    "    print('#{} {}'.format(tc, cnt))"
   ]
  },
  {
   "cell_type": "code",
   "execution_count": 6,
   "metadata": {},
   "outputs": [
    {
     "name": "stdout",
     "output_type": "stream",
     "text": [
      "534\n"
     ]
    }
   ],
   "source": [
    "a = '234'\n",
    "b = '157'\n",
    "a= a.replace(a[0], b[1])\n",
    "print(a)"
   ]
  }
 ],
 "metadata": {
  "kernelspec": {
   "display_name": "Python 3",
   "language": "python",
   "name": "python3"
  },
  "language_info": {
   "codemirror_mode": {
    "name": "ipython",
    "version": 3
   },
   "file_extension": ".py",
   "mimetype": "text/x-python",
   "name": "python",
   "nbconvert_exporter": "python",
   "pygments_lexer": "ipython3",
   "version": "3.7.3"
  }
 },
 "nbformat": 4,
 "nbformat_minor": 2
}
