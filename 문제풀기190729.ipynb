{
 "cells": [
  {
   "cell_type": "code",
   "execution_count": 23,
   "metadata": {},
   "outputs": [
    {
     "name": "stdout",
     "output_type": "stream",
     "text": [
      "BTC\n",
      "ETH\n",
      "DASH\n",
      "LTC\n",
      "ETC\n",
      "XRP\n",
      "BCH\n",
      "XMR\n",
      "ZEC\n",
      "QTUM\n",
      "BTG\n",
      "EOS\n",
      "ICX\n",
      "VET\n",
      "TRX\n",
      "ELF\n",
      "MITH\n",
      "MCO\n",
      "OMG\n",
      "KNC\n",
      "GNT\n",
      "ZIL\n",
      "ETHOS\n",
      "PAY\n",
      "WAX\n",
      "POWR\n",
      "LRC\n",
      "GTO\n",
      "STEEM\n",
      "STRAT\n",
      "ZRX\n",
      "REP\n",
      "AE\n",
      "XEM\n",
      "SNT\n",
      "ADA\n",
      "PPT\n",
      "CTXC\n",
      "CMT\n",
      "THETA\n",
      "WTC\n",
      "ITC\n",
      "TRUE\n",
      "ABT\n",
      "RNT\n",
      "PLY\n",
      "WAVES\n",
      "LINK\n",
      "ENJ\n",
      "PST\n",
      "SALT\n",
      "RDN\n",
      "LOOM\n",
      "PIVX\n",
      "INS\n",
      "BCD\n",
      "BZNT\n",
      "XLM\n",
      "OCN\n",
      "BSV\n",
      "TMTG\n",
      "BAT\n",
      "WET\n",
      "XVG\n",
      "IOST\n",
      "POLY\n",
      "HC\n",
      "ROM\n",
      "AMO\n",
      "ETZ\n",
      "ARN\n",
      "APIS\n",
      "MTL\n",
      "DACC\n",
      "DAC\n",
      "BHP\n",
      "BTT\n",
      "HDAC\n",
      "NPXS\n",
      "AUTO\n",
      "GXC\n",
      "ORBS\n",
      "VALOR\n",
      "CON\n",
      "ANKR\n",
      "MIX\n",
      "HYC\n",
      "LBA\n",
      "LAMB\n",
      "CRO\n",
      "date\n"
     ]
    }
   ],
   "source": [
    "#problem 02(상승장, 하락장)\n",
    "import requests\n",
    "url = \"https://api.bithumb.com/public/ticker/all\"\n",
    "data = requests.get(url).json()['data']\n",
    "for coin in data:\n",
    "    "
   ]
  },
  {
   "cell_type": "code",
   "execution_count": 25,
   "metadata": {},
   "outputs": [
    {
     "name": "stdout",
     "output_type": "stream",
     "text": [
      "['*******']\n"
     ]
    }
   ],
   "source": [
    "masking = ['*'*7]\n",
    "print(masking)"
   ]
  }
 ],
 "metadata": {
  "kernelspec": {
   "display_name": "Python 3",
   "language": "python",
   "name": "python3"
  },
  "language_info": {
   "codemirror_mode": {
    "name": "ipython",
    "version": 3
   },
   "file_extension": ".py",
   "mimetype": "text/x-python",
   "name": "python",
   "nbconvert_exporter": "python",
   "pygments_lexer": "ipython3",
   "version": "3.7.3"
  }
 },
 "nbformat": 4,
 "nbformat_minor": 2
}
