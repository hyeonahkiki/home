{
 "cells": [
  {
   "cell_type": "code",
   "execution_count": 10,
   "metadata": {},
   "outputs": [
    {
     "name": "stdout",
     "output_type": "stream",
     "text": [
      "dd\n"
     ]
    }
   ],
   "source": [
    "# d1 - 일대일 가위바위보\n",
    "\n",
    "game = input().split()\n",
    "\n",
    "if game[0]=='1' and game[1]=='2':\n",
    "    print('B')\n",
    "elif game[0]=='1' and game[1]=='3':\n",
    "    print('A')\n",
    "elif game[0]=='2' and game[1]=='1':\n",
    "    print('A')\n",
    "elif game[0]=='2' and game[1]=='3':\n",
    "    print('B')\n",
    "elif game[0]=='3' and game[1]=='1':\n",
    "    print('B')\n",
    "elif game[0]=='3' and game[1]=='2':\n",
    "    print('A')"
   ]
  },
  {
   "cell_type": "code",
   "execution_count": 11,
   "metadata": {},
   "outputs": [
    {
     "name": "stdout",
     "output_type": "stream",
     "text": [
      "132\n",
      "B\n"
     ]
    }
   ],
   "source": [
    "# d1- 일대일 가위바위보\n",
    "res = list(map(int, input().split()))\n",
    "win = [[1, 3], [3, 2], [2, 1]]\n",
    "print('A') if res in win else print('B')"
   ]
  },
  {
   "cell_type": "code",
   "execution_count": 33,
   "metadata": {},
   "outputs": [
    {
     "name": "stdout",
     "output_type": "stream",
     "text": [
      "LETTERS 10\n",
      "DIGITS 3\n"
     ]
    }
   ],
   "source": [
    "#사전학습 딕셔너리7\n",
    "words = 'hello world! 123'\n",
    "wcnt = 0\n",
    "ncnt = 0\n",
    "for word in words:\n",
    "    if ord(word) in range(ord('a'), ord('z')+1):\n",
    "        wcnt += 1\n",
    "    if word.isnumeric()==True:\n",
    "        ncnt +=1\n",
    "print(f'LETTERS {wcnt}')\n",
    "print(f'DIGITS {ncnt}')"
   ]
  },
  {
   "cell_type": "code",
   "execution_count": 32,
   "metadata": {},
   "outputs": [
    {
     "name": "stdout",
     "output_type": "stream",
     "text": [
      "UPPER CASE 2\n",
      "LOWER CASE 8\n"
     ]
    }
   ],
   "source": [
    "#사전학습 딕셔너리8\n",
    "words = 'Hello World! 123'\n",
    "ccnt=0\n",
    "lcnt=0\n",
    "for word in words:\n",
    "    if word.isupper()==True:\n",
    "        ccnt += 1\n",
    "    if word.islower()==True:\n",
    "        lcnt += 1\n",
    "print(f'UPPER CASE {ccnt}')\n",
    "print(f'LOWER CASE {lcnt}')"
   ]
  },
  {
   "cell_type": "code",
   "execution_count": 48,
   "metadata": {},
   "outputs": [
    {
     "name": "stdout",
     "output_type": "stream",
     "text": [
      "{'하이트': 2100.0, '카스': 2205.0, '칭따오': 2625.0, '하이네켄': 4200.0, '버드와이저': 525.0}\n"
     ]
    }
   ],
   "source": [
    "#사전학습 딕셔너리9\n",
    "beer = {'하이트': 2000, '카스': 2100, '칭따오': 2500, '하이네켄': 4000, '버드와이저': 500}\n",
    "\n",
    "for name,price in beer.items():\n",
    "    price = price * 1.05\n",
    "    beer[name]=price\n",
    "print(beer)"
   ]
  },
  {
   "cell_type": "code",
   "execution_count": 52,
   "metadata": {},
   "outputs": [
    {
     "name": "stdout",
     "output_type": "stream",
     "text": [
      "a,2\n",
      "b,2\n",
      "c,2\n",
      "d,1\n",
      "e,1\n",
      "f,1\n",
      "g,1\n"
     ]
    }
   ],
   "source": [
    "#사전학습 딕셔너리10\n",
    "words = 'abcdefgabc'\n",
    "ans ={}\n",
    "for word in words:\n",
    "    if word in ans:\n",
    "        ans[word]+=1\n",
    "    else:\n",
    "        ans[word]=1\n",
    "\n",
    "for key, val in ans.items():\n",
    "    print(f'{key},{val}')"
   ]
  },
  {
   "cell_type": "code",
   "execution_count": 68,
   "metadata": {},
   "outputs": [
    {
     "name": "stdout",
     "output_type": "stream",
     "text": [
      "8 3\n",
      "11\n",
      "5\n",
      "24\n",
      "2\n"
     ]
    }
   ],
   "source": [
    "#d1 - 1938\n",
    "ans = list(map(int,input().split()))\n",
    "\n",
    "print(ans[0] + ans[1])\n",
    "print(ans[0]-ans[1])\n",
    "print(ans[0]*ans[1])\n",
    "print(ans[0] // ans[1])"
   ]
  },
  {
   "cell_type": "code",
   "execution_count": 71,
   "metadata": {},
   "outputs": [
    {
     "name": "stdout",
     "output_type": "stream",
     "text": [
      "THE_HEADLINE_IS_THE_TEXT_INDICATING_THE_NATURE_OF_THE_ARTICLE_BELOW_IT. \n"
     ]
    }
   ],
   "source": [
    "#d1-2047\n",
    "word = 'The_headline_is_the_text_indicating_the_nature_of_the_article_below_it. '\n",
    "print(word.upper())"
   ]
  },
  {
   "cell_type": "code",
   "execution_count": 73,
   "metadata": {},
   "outputs": [
    {
     "name": "stdout",
     "output_type": "stream",
     "text": [
      "['A', ' ', 'b', 'e', 't', 't', 'e', 'r', ' ', 't', 'o', 'm', 'o', 'r', 'r', 'o', 'w']\n"
     ]
    }
   ],
   "source": [
    "#사전학습 -문자열2\n",
    "words = 'A better tomorrow'\n",
    "\n",
    "ans=[]\n",
    "temp=''\n",
    "for word in words:\n",
    "    if word!='':\n",
    "        temp+=word\n",
    "        ans.append(temp)\n",
    "        temp=''"
   ]
  }
 ],
 "metadata": {
  "kernelspec": {
   "display_name": "Python 3",
   "language": "python",
   "name": "python3"
  },
  "language_info": {
   "codemirror_mode": {
    "name": "ipython",
    "version": 3
   },
   "file_extension": ".py",
   "mimetype": "text/x-python",
   "name": "python",
   "nbconvert_exporter": "python",
   "pygments_lexer": "ipython3",
   "version": "3.7.3"
  }
 },
 "nbformat": 4,
 "nbformat_minor": 2
}
