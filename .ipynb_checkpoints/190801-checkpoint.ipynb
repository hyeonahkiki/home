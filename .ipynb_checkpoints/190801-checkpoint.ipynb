{
 "cells": [
  {
   "cell_type": "code",
   "execution_count": 2,
   "metadata": {},
   "outputs": [],
   "source": [
    "class MyList:\n",
    "    data=[]\n",
    "    \n",
    "    def append(self, val):\n",
    "        self.data += [val]\n",
    "        \n",
    "    def pop(self):\n",
    "        p = self.data[-1]\n",
    "        self.data = self.data[:-1]\n",
    "        return p\n",
    "    \n",
    "    def reverse(self):\n",
    "        self.data = self.data[::-1]\n",
    "        \n",
    "    def count(self, val):\n",
    "        return self.data.count(val)\n",
    "    \n",
    "    def clear(self):\n",
    "        self.data=[]\n",
    "        \n",
    "    def __repr__(self):\n",
    "        return f'내 리스트에는 {data}이 담겨있다.'"
   ]
  },
  {
   "cell_type": "code",
   "execution_count": 5,
   "metadata": {},
   "outputs": [],
   "source": [
    "class Stack:\n",
    "    def __init__(self):\n",
    "        self.data=[]\n",
    "        \n",
    "    def empty(self):\n",
    "        if self.data:\n",
    "            return False\n",
    "        else:\n",
    "            return True\n",
    "        \n",
    "    def top(self):\n",
    "        if self.data:\n",
    "            return self.data[-1]\n",
    "    \n",
    "    def pop(self):\n",
    "        if not self.empty():\n",
    "            last = self.data[-1]\n",
    "            self.data = self.data[0:-1]\n",
    "            return last\n",
    "    def push(self):\n",
    "        self.data.append(item)\n",
    "    \n",
    "s=Stack()"
   ]
  },
  {
   "cell_type": "code",
   "execution_count": null,
   "metadata": {},
   "outputs": [],
   "source": [
    "class Person:\n",
    "    brain = True\n",
    "    \n",
    "    def __init__(self, name, age, number, email):\n",
    "        self.name = name\n",
    "        self.age = age\n",
    "        self.number = number\n",
    "        self.email = email\n",
    "    \n",
    "    def greeting(self):\n",
    "        print(f'안녕, {self.name}')\n",
    "        \n",
    "    def walk(self):\n",
    "        print('뚜벅뚜벅')\n",
    "        \n",
    "class Student(Person):\n",
    "    def __init__(self, name, age, number, email, studet_id):\n",
    "        super().__init__(name, age, number, email)\n",
    "        self.student_id = student_id\n",
    "        \n",
    "        "
   ]
  }
 ],
 "metadata": {
  "kernelspec": {
   "display_name": "Python 3",
   "language": "python",
   "name": "python3"
  },
  "language_info": {
   "codemirror_mode": {
    "name": "ipython",
    "version": 3
   },
   "file_extension": ".py",
   "mimetype": "text/x-python",
   "name": "python",
   "nbconvert_exporter": "python",
   "pygments_lexer": "ipython3",
   "version": "3.7.3"
  }
 },
 "nbformat": 4,
 "nbformat_minor": 2
}
