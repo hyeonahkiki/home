{
 "cells": [
  {
   "cell_type": "code",
   "execution_count": 4,
   "metadata": {},
   "outputs": [
    {
     "name": "stdout",
     "output_type": "stream",
     "text": [
      "1번 학생의 총점은 170이고, 평균은 85.0입니다.\n",
      "2번 학생의 총점은 160이고, 평균은 80.0입니다.\n",
      "3번 학생의 총점은 190이고, 평균은 95.0입니다.\n"
     ]
    }
   ],
   "source": [
    "#사전학습 리스트, 튜플 01\n",
    "score = [(90, 80), (85,75), (90,100)]\n",
    "sc_1 = sum(score[0])\n",
    "sc_2 = sum(score[1])\n",
    "sc_3 = sum(score[2])\n",
    "\n",
    "av_1 = sc_1 /2\n",
    "av_2 = sc_2 /2\n",
    "av_3 = sc_3 /2\n",
    "\n",
    "\n",
    "print(f'1번 학생의 총점은 {sc_1}이고, 평균은 {av_1}입니다.')\n",
    "print(f'2번 학생의 총점은 {sc_2}이고, 평균은 {av_2}입니다.')\n",
    "print(f'3번 학생의 총점은 {sc_3}이고, 평균은 {av_3}입니다.')"
   ]
  },
  {
   "cell_type": "code",
   "execution_count": 50,
   "metadata": {},
   "outputs": [
    {
     "name": "stdout",
     "output_type": "stream",
     "text": [
      "Pythn s pwrfl... nd fst; plys wll wth thrs; rns vrywhr; s frndly & sy t lrn; s Opn.\n"
     ]
    }
   ],
   "source": [
    "#리스트, 튜플02\n",
    "word = 'Python is powerful... and fast; plays well with others; runs everywhere; is friendly & easy to learn; is Open.'\n",
    "vowel = ['a', 'e', 'i', 'o', 'u']\n",
    "\n",
    "# for w in word:\n",
    "#     if w not in voewl:\n",
    "#         res.append(w)\n",
    "# print(''.join(res), end='')\n",
    "\n",
    "res = [w for w in word if w not in vowel]\n",
    "print(''.join(res))\n"
   ]
  },
  {
   "cell_type": "code",
   "execution_count": 148,
   "metadata": {},
   "outputs": [
    {
     "name": "stdout",
     "output_type": "stream",
     "text": [
      "[[2, 4, 8, 10, 16], [], [4, 8, 16, 20, 32], [5, 10, 20, 25, 40], [], [], [8, 16, 32, 40, 64], []]\n"
     ]
    }
   ],
   "source": [
    "# 03\n",
    "result = []\n",
    "\n",
    "for num in range(2, 10):\n",
    "    res = []\n",
    "    for number in range(1,10):\n",
    "        ans = number *num\n",
    "        if ans % 3!=0 and ans % 7 !=0:\n",
    "            res.append(ans)\n",
    "    result.append(res)\n",
    "print(result)"
   ]
  },
  {
   "cell_type": "code",
   "execution_count": 122,
   "metadata": {},
   "outputs": [
    {
     "name": "stdout",
     "output_type": "stream",
     "text": [
      "[18]\n"
     ]
    }
   ],
   "source": []
  }
 ],
 "metadata": {
  "kernelspec": {
   "display_name": "Python 3",
   "language": "python",
   "name": "python3"
  },
  "language_info": {
   "codemirror_mode": {
    "name": "ipython",
    "version": 3
   },
   "file_extension": ".py",
   "mimetype": "text/x-python",
   "name": "python",
   "nbconvert_exporter": "python",
   "pygments_lexer": "ipython3",
   "version": "3.7.3"
  }
 },
 "nbformat": 4,
 "nbformat_minor": 2
}
