{
 "cells": [
  {
   "cell_type": "code",
   "execution_count": 3,
   "metadata": {},
   "outputs": [
    {
     "name": "stdout",
     "output_type": "stream",
     "text": [
      "3.0\n"
     ]
    }
   ],
   "source": [
    "#7장\n",
    "\n",
    "imag_number = 3+ 4j\n",
    "print((imag_number.real))"
   ]
  },
  {
   "cell_type": "code",
   "execution_count": 5,
   "metadata": {},
   "outputs": [
    {
     "name": "stdout",
     "output_type": "stream",
     "text": [
      "[1, 2, 3, 4, 5, 6, 7]\n"
     ]
    }
   ],
   "source": [
    "my_list = [7, 6, 5, 4, 3, 2, 1]\n",
    "my_list.sort()\n",
    "print(my_list) #sotrt 원본을 정려시킴 => 원본바뀜"
   ]
  },
  {
   "cell_type": "code",
   "execution_count": 6,
   "metadata": {},
   "outputs": [],
   "source": [
    "handphone = {}\n",
    "contents = {'power': bool(), 'number':str(), 'book':dict(), \n",
    "           'model': str()}\n",
    "handphone.update(contents)\n",
    "\n",
    "def power(num):\n",
    "    if num ==1:\n",
    "        return 'on'\n",
    "    else:\n",
    "        return 'off'\n",
    "    \n",
    "def call(number):\n",
    "    if len(number) ==11:\n",
    "        return '전화건다'\n",
    "\n",
    "power = False\n",
    "number = ''\n",
    "book = {}\n",
    "model = 'samsaung galaxy s8'\n",
    "\n",
    "def on():\n",
    "    if not power:\n",
    "        power == True\n",
    "        return power\n",
    "    \n",
    "def off():\n",
    "    if power:\n",
    "        power = False\n",
    "        return power\n",
    "\n",
    "def set_my_number(number):\n",
    "    if power:\n",
    "        number = number\n",
    "        \n",
    "def call(number):\n",
    "    if power:\n",
    "        if number in book:\n",
    "            print(f'{book[number]}에게 전화중입니다.')\n",
    "        else:\n",
    "            print(f'{number}에게 전화중입니다.')\n",
    "            \n",
    "def save(name, number):\n",
    "    if power:\n",
    "        book[name] = number\n",
    "        return book\n"
   ]
  },
  {
   "cell_type": "code",
   "execution_count": 8,
   "metadata": {},
   "outputs": [],
   "source": [
    "call('112')"
   ]
  },
  {
   "cell_type": "code",
   "execution_count": 10,
   "metadata": {},
   "outputs": [
    {
     "name": "stdout",
     "output_type": "stream",
     "text": [
      "False\n"
     ]
    }
   ],
   "source": [
    "on()\n",
    "print(power)"
   ]
  },
  {
   "cell_type": "code",
   "execution_count": 12,
   "metadata": {},
   "outputs": [],
   "source": [
    "power = True"
   ]
  },
  {
   "cell_type": "code",
   "execution_count": 14,
   "metadata": {},
   "outputs": [
    {
     "data": {
      "text/plain": [
       "{'태일': '01020190610'}"
      ]
     },
     "execution_count": 14,
     "metadata": {},
     "output_type": "execute_result"
    }
   ],
   "source": [
    "save('태일', '01020190610')"
   ]
  },
  {
   "cell_type": "code",
   "execution_count": 17,
   "metadata": {},
   "outputs": [
    {
     "name": "stdout",
     "output_type": "stream",
     "text": [
      "01020190610에게 전화중입니다.\n"
     ]
    }
   ],
   "source": [
    "call('')"
   ]
  },
  {
   "cell_type": "code",
   "execution_count": 18,
   "metadata": {},
   "outputs": [],
   "source": [
    "# class ClassName : 선언과 동시에 객체가 생성됨\n",
    "#     선언된 공간은 직역 스코프로 사용된다.\n",
    "#     정의된 어트리뷰트 중 변수는 멤버변수로 불리운다.\n",
    "#     정의된 함수(def)는 메서드로 불리운다."
   ]
  },
  {
   "cell_type": "code",
   "execution_count": 19,
   "metadata": {},
   "outputs": [
    {
     "data": {
      "text/plain": [
       "'\\n인스턴스 객체는 ClassName()을 호출함으로써 선언한다.\\n인스턴스 객체와 클래스 객체는 서로 다른 이름 공간을 가지고 이싿.\\n인스턴스, 클래스, 전역순으로 탐색\\n'"
      ]
     },
     "execution_count": 19,
     "metadata": {},
     "output_type": "execute_result"
    }
   ],
   "source": [
    "'''\n",
    "인스턴스 객체는 ClassName()을 호출함으로써 선언한다.\n",
    "인스턴스 객체와 클래스 객체는 서로 다른 이름 공간을 가지고 이싿.\n",
    "인스턴스, 클래스, 전역순으로 탐색\n",
    "'''"
   ]
  },
  {
   "cell_type": "code",
   "execution_count": 30,
   "metadata": {},
   "outputs": [
    {
     "name": "stdout",
     "output_type": "stream",
     "text": [
      "<class '__main__.TestClass'>\n"
     ]
    }
   ],
   "source": [
    "tc = TestClass()\n",
    "print(type(tc))"
   ]
  },
  {
   "cell_type": "code",
   "execution_count": 28,
   "metadata": {},
   "outputs": [],
   "source": [
    "class TestClass:\n",
    "    '''\n",
    "    이것은 테스트 클래스입니다.\n",
    "    '''\n",
    "name = 'TestClass'"
   ]
  },
  {
   "cell_type": "code",
   "execution_count": 32,
   "metadata": {},
   "outputs": [
    {
     "name": "stdout",
     "output_type": "stream",
     "text": [
      "테스트\n"
     ]
    }
   ],
   "source": [
    "\n",
    "tc.name = '테스트'\n",
    "print(tc.name)"
   ]
  },
  {
   "cell_type": "code",
   "execution_count": 34,
   "metadata": {},
   "outputs": [],
   "source": [
    "class Phone:\n",
    "    power = False\n",
    "    number = ''\n",
    "    book = {}\n",
    "    model = 's8'\n",
    "    \n",
    "    def on(self):\n",
    "        if not self.power:\n",
    "            self.power = True\n",
    "            print('=============')\n",
    "            print(f'{self.model}')\n",
    "            print('=============')\n",
    "            \n",
    "    def off(self):\n",
    "        if self.power:\n",
    "            self.power = False\n",
    "            print('꺼졌습니다.')"
   ]
  },
  {
   "cell_type": "code",
   "execution_count": 37,
   "metadata": {},
   "outputs": [
    {
     "name": "stdout",
     "output_type": "stream",
     "text": [
      "s8\n"
     ]
    }
   ],
   "source": [
    "my_phone = Phone()\n",
    "print(my_phone.model)"
   ]
  },
  {
   "cell_type": "code",
   "execution_count": 45,
   "metadata": {},
   "outputs": [
    {
     "data": {
      "text/plain": [
       "True"
      ]
     },
     "execution_count": 45,
     "metadata": {},
     "output_type": "execute_result"
    }
   ],
   "source": [
    "my_phone.power\n",
    "my_phone.on()\n",
    "my_phone.power"
   ]
  },
  {
   "cell_type": "code",
   "execution_count": 47,
   "metadata": {},
   "outputs": [],
   "source": [
    "my_phone.model = 'iphon xr'"
   ]
  },
  {
   "cell_type": "code",
   "execution_count": 50,
   "metadata": {},
   "outputs": [
    {
     "name": "stdout",
     "output_type": "stream",
     "text": [
      "꺼졌습니다.\n",
      "=============\n",
      "iphon xr\n",
      "=============\n"
     ]
    }
   ],
   "source": [
    "my_phone.off()\n",
    "my_phone.on()"
   ]
  },
  {
   "cell_type": "code",
   "execution_count": 53,
   "metadata": {},
   "outputs": [
    {
     "data": {
      "text/plain": [
       "True"
      ]
     },
     "execution_count": 53,
     "metadata": {},
     "output_type": "execute_result"
    }
   ],
   "source": [
    "isinstance(my_phone, Phone)\n",
    "type(my_phone)  == Phone"
   ]
  },
  {
   "cell_type": "code",
   "execution_count": 59,
   "metadata": {},
   "outputs": [
    {
     "name": "stdout",
     "output_type": "stream",
     "text": [
      "[1, 2, 3, '4']\n"
     ]
    }
   ],
   "source": [
    "a = [1, 2, 3]\n",
    "a. extend('4')\n",
    "print(a)"
   ]
  },
  {
   "cell_type": "code",
   "execution_count": 68,
   "metadata": {
    "scrolled": true
   },
   "outputs": [
    {
     "data": {
      "text/plain": [
       "1"
      ]
     },
     "execution_count": 68,
     "metadata": {},
     "output_type": "execute_result"
    }
   ],
   "source": [
    "a = (1, 2)\n",
    "len(a)\n",
    "b= ('1')\n",
    "len(b)\n",
    "# print(type(b))"
   ]
  },
  {
   "cell_type": "code",
   "execution_count": 80,
   "metadata": {},
   "outputs": [
    {
     "data": {
      "text/plain": [
       "345"
      ]
     },
     "execution_count": 80,
     "metadata": {},
     "output_type": "execute_result"
    }
   ],
   "source": [
    "a = {1 : 2, 2 : [{'abc' : 123}, {'bcd' : 345, 'fgh' : 789}]}\n",
    "a.get(2)[1].get('bcd')"
   ]
  },
  {
   "cell_type": "code",
   "execution_count": 85,
   "metadata": {},
   "outputs": [
    {
     "name": "stdout",
     "output_type": "stream",
     "text": [
      "a\n",
      "b\n",
      "ab\n"
     ]
    }
   ],
   "source": [
    "blood = {'a': '소심함', 'b': 'ㅇㅅㅇ', 'ab': '돌아이'}\n",
    "for feel in blood.keys():\n",
    "    print(feel)"
   ]
  },
  {
   "cell_type": "code",
   "execution_count": 94,
   "metadata": {
    "scrolled": true
   },
   "outputs": [
    {
     "name": "stdout",
     "output_type": "stream",
     "text": [
      "동호님은 27살 입니다.\n"
     ]
    }
   ],
   "source": [
    "# def greeting(age, name = \"익명\"):\n",
    "#    print(f'{name}님은 {age}살 입니다.')\n",
    "# greeting(27, '동호')"
   ]
  },
  {
   "cell_type": "code",
   "execution_count": 96,
   "metadata": {},
   "outputs": [
    {
     "name": "stdout",
     "output_type": "stream",
     "text": [
      "동호님은 27살 입니다.\n"
     ]
    }
   ],
   "source": [
    "def greeting(age,name):\n",
    "   print(f'{name}님은 {age}살 입니다.')\n",
    "greeting(27, '동호')"
   ]
  }
 ],
 "metadata": {
  "kernelspec": {
   "display_name": "Python 3",
   "language": "python",
   "name": "python3"
  },
  "language_info": {
   "codemirror_mode": {
    "name": "ipython",
    "version": 3
   },
   "file_extension": ".py",
   "mimetype": "text/x-python",
   "name": "python",
   "nbconvert_exporter": "python",
   "pygments_lexer": "ipython3",
   "version": "3.7.3"
  }
 },
 "nbformat": 4,
 "nbformat_minor": 2
}
