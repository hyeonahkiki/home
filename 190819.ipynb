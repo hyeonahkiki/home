{
 "cells": [
  {
   "cell_type": "code",
   "execution_count": null,
   "metadata": {},
   "outputs": [],
   "source": [
    "#d2. 최빈수구하기\n",
    "\n",
    "for tc in range(1, int(input())+1):\n",
    "    tc_n = input()\n",
    "    score_cnt = [0] * 101\n",
    "    studets_score = map(int, input().split())\n",
    "    \n",
    "    for i in studets_score:\n",
    "        score_cnt[i] += 1\n",
    "        \n",
    "    target_score = max(score_cnt)\n",
    "    res = []\n",
    "    \n",
    "    for idx, value in enumerate(score_cnt):\n",
    "        if value == target_score:\n",
    "        res.append(idx)\n",
    "        \n",
    "    ans = max(res)\n",
    "    print('#{} {}'.format(tc, ans))"
   ]
  },
  {
   "cell_type": "code",
   "execution_count": null,
   "metadata": {},
   "outputs": [],
   "source": [
    "for tc in range(1, int(input())+1):\n",
    "    tc_n = input()\n",
    "    scores = list(map(int, input().split()))\n",
    "    res = {}\n",
    "    for score in scores:\n",
    "        if score not in res:\n",
    "            res[score] =1\n",
    "        else:\n",
    "            res[score] += 1\n",
    "    ans=[]\n",
    "    for key, value in res.items():\n",
    "        if max(res.values())==value:\n",
    "            ans.append(key)\n",
    "    print('#{} {}'.format(tc, max(ans)))"
   ]
  }
 ],
 "metadata": {
  "kernelspec": {
   "display_name": "Python 3",
   "language": "python",
   "name": "python3"
  },
  "language_info": {
   "codemirror_mode": {
    "name": "ipython",
    "version": 3
   },
   "file_extension": ".py",
   "mimetype": "text/x-python",
   "name": "python",
   "nbconvert_exporter": "python",
   "pygments_lexer": "ipython3",
   "version": "3.7.3"
  }
 },
 "nbformat": 4,
 "nbformat_minor": 2
}
